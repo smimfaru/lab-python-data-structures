{
  "nbformat": 4,
  "nbformat_minor": 0,
  "metadata": {
    "colab": {
      "provenance": []
    },
    "kernelspec": {
      "name": "python3",
      "display_name": "Python 3"
    },
    "language_info": {
      "name": "python"
    }
  },
  "cells": [
    {
      "cell_type": "code",
      "execution_count": null,
      "metadata": {
        "id": "qK-OkeqiM7HG"
      },
      "outputs": [],
      "source": []
    },
    {
      "cell_type": "markdown",
      "source": [
        "\n",
        "Lab | Data Structures\n",
        "Exercise: Managing Customer Orders\n",
        "As part of a business venture, you are starting an online store that sells various products. To ensure smooth operations, you need to develop a program that manages customer orders and inventory.\n",
        "\n",
        "Follow the steps below to complete the exercise:\n",
        "\n",
        "1. Define a list called products that contains the following items: \"t-shirt\", \"mug\", \"hat\", \"book\", \"keychain\".\n",
        "\n",
        "2. Create an empty dictionary called inventory.\n",
        "\n",
        "3. Ask the user to input the quantity of each product available in the inventory. Use the product names from the products list as keys in the inventory dictionary and assign the respective quantities as values.\n",
        "\n",
        "4.Create an empty set called customer_orders.\n",
        "\n",
        "5. Ask the user to input the name of three products that a customer wants to order (from those in the products list, meaning three products out of \"t-shirt\", \"mug\", \"hat\", \"book\" or \"keychain\". Add each product name to the customer_orders set.\n",
        "\n",
        "6. Print the products in the customer_orders set.\n",
        "\n",
        "7. Calculate the following order statistics:\n",
        "\n",
        "Total Products Ordered: The total number of products in the customer_orders set.\n",
        "Percentage of Products Ordered: The percentage of products ordered compared to the total available products.\n",
        "8. Store these statistics in a tuple called order_status.\n",
        "\n",
        "9. Print the order statistics using the following format:\n",
        "\n",
        "Order Statistics:\n",
        "Total Products Ordered: <total_products_ordered>\n",
        "Percentage of Products Ordered: <percentage_ordered>%\n",
        "Update the inventory by subtracting 1 from the quantity of each product. Modify the inventory dictionary accordingly.\n",
        "\n",
        "10.\n",
        "Update the inventory by subtracting 1 from the quantity of each product. Modify the inventory dictionary accordingly.\n",
        "\n",
        "11. Print the updated inventory, displaying the quantity of each product on separate lines.\n",
        "\n",
        "Solve the exercise by implementing the steps using the Python concepts of lists, dictionaries, sets, and basic input/output operations."
      ],
      "metadata": {
        "id": "fqqkU4lrNFEh"
      }
    },
    {
      "cell_type": "code",
      "source": [
        "products = [ \"t-shirt\", \"mug\", \"hat\", \"book\", \"keychain\"]\n",
        "\n",
        "inventory ={}\n",
        "\n",
        "#products =  [ \"t-shirt\", \"mug\", \"hat\", \"book\", \"keychain\"]\n",
        "\n",
        "#quantity = (list(map(int, input(\"Input the values for each products\").split()))\n",
        "#print\n",
        "\n",
        "for items in products:\n",
        "  quantity = int(input(f\"how many {items} in the stock? \"))\n",
        "  inventory[items]=quantity\n",
        "\n",
        "\n"
      ],
      "metadata": {
        "id": "s6sPqSbcOJlV",
        "colab": {
          "base_uri": "https://localhost:8080/"
        },
        "outputId": "eddadb69-93c3-41ab-97a0-e7860fb81adb"
      },
      "execution_count": 1,
      "outputs": [
        {
          "name": "stdout",
          "output_type": "stream",
          "text": [
            "how many t-shirt in the stock?10\n",
            "how many mug in the stock?12\n",
            "how many hat in the stock?30\n",
            "how many book in the stock?40\n",
            "how many keychain in the stock?50\n"
          ]
        }
      ]
    },
    {
      "cell_type": "code",
      "source": [
        "inventory"
      ],
      "metadata": {
        "colab": {
          "base_uri": "https://localhost:8080/"
        },
        "id": "gs9jHSqu-cmX",
        "outputId": "5bf6b0ca-7220-46be-b2d4-5ab798841d15"
      },
      "execution_count": 3,
      "outputs": [
        {
          "output_type": "execute_result",
          "data": {
            "text/plain": [
              "{'t-shirt': 10, 'mug': 12, 'hat': 30, 'book': 40, 'keychain': 50}"
            ]
          },
          "metadata": {},
          "execution_count": 3
        }
      ]
    },
    {
      "cell_type": "code",
      "source": [
        "\n",
        "customer_order = set()\n",
        "\n",
        "for i in range(3):\n",
        "  order =input(\"Enter the name of product you want to order from this list\\n 't-shirt', 'mug', 'hat', 'book', 'keychain' \")\n",
        "  customer_order.add(order)\n"
      ],
      "metadata": {
        "colab": {
          "base_uri": "https://localhost:8080/"
        },
        "id": "Y5VvIiQc-_QA",
        "outputId": "a42c998e-f9fe-4840-b014-a27ecb77f64a"
      },
      "execution_count": 10,
      "outputs": [
        {
          "name": "stdout",
          "output_type": "stream",
          "text": [
            "Enter the number of product you want to order from this list\n",
            " 't-shirt', 'mug', 'hat', 'book', 'keychain' book\n",
            "Enter the number of product you want to order from this list\n",
            " 't-shirt', 'mug', 'hat', 'book', 'keychain' mug\n",
            "Enter the number of product you want to order from this list\n",
            " 't-shirt', 'mug', 'hat', 'book', 'keychain' keychain\n"
          ]
        }
      ]
    },
    {
      "cell_type": "code",
      "source": [
        "print(customer_order)\n"
      ],
      "metadata": {
        "colab": {
          "base_uri": "https://localhost:8080/"
        },
        "id": "SdiGcHUmBm_6",
        "outputId": "230e76a2-7ee5-40c5-eaf1-ac19c0ec1ddf"
      },
      "execution_count": 11,
      "outputs": [
        {
          "output_type": "stream",
          "name": "stdout",
          "text": [
            "{'keychain', 'book', 'mug'}\n"
          ]
        }
      ]
    },
    {
      "cell_type": "code",
      "source": [
        "total_products_ordered = len(customer_order)\n",
        "total_products_ordered"
      ],
      "metadata": {
        "colab": {
          "base_uri": "https://localhost:8080/"
        },
        "id": "xTNACH5NGkMU",
        "outputId": "a223725c-40d1-4174-809e-bab5488ee092"
      },
      "execution_count": 15,
      "outputs": [
        {
          "output_type": "execute_result",
          "data": {
            "text/plain": [
              "3"
            ]
          },
          "metadata": {},
          "execution_count": 15
        }
      ]
    },
    {
      "cell_type": "code",
      "source": [
        "total_available_prod = len(products)\n",
        "print(total_available_prod)"
      ],
      "metadata": {
        "colab": {
          "base_uri": "https://localhost:8080/"
        },
        "id": "SJ9mBXU_Lziv",
        "outputId": "3224e175-9476-4e94-c723-3ee1be87df73"
      },
      "execution_count": 17,
      "outputs": [
        {
          "output_type": "stream",
          "name": "stdout",
          "text": [
            "5\n"
          ]
        }
      ]
    },
    {
      "cell_type": "code",
      "source": [
        "percentage_product = total_products_ordered / total_available_prod * 100\n",
        "\n",
        "print(percentage_product)"
      ],
      "metadata": {
        "colab": {
          "base_uri": "https://localhost:8080/"
        },
        "id": "39D7SfRhJCA5",
        "outputId": "0a076a86-3ff7-4603-a42a-fe49e863f198"
      },
      "execution_count": 18,
      "outputs": [
        {
          "output_type": "stream",
          "name": "stdout",
          "text": [
            "60.0\n"
          ]
        }
      ]
    },
    {
      "cell_type": "code",
      "source": [
        "order_statistics =(total_products_ordered, percentage_product)\n",
        "print(f\"Order Statistics: \\nTotal Ordered Products : {total_products}\\nPercentage of ordered products :{percentage_product}%\")\n"
      ],
      "metadata": {
        "colab": {
          "base_uri": "https://localhost:8080/"
        },
        "id": "Gcln60M0JdO7",
        "outputId": "489047ba-eb94-4be2-af87-0201f2b69caf"
      },
      "execution_count": 21,
      "outputs": [
        {
          "output_type": "stream",
          "name": "stdout",
          "text": [
            "Order Statistics: \n",
            "Total Ordered Products : 3\n",
            "Percentage of ordered products :60.0%\n"
          ]
        }
      ]
    },
    {
      "cell_type": "code",
      "source": [
        "for x in inventory:\n",
        "  inventory[x] -= 1\n",
        "\n",
        "print(inventory)"
      ],
      "metadata": {
        "colab": {
          "base_uri": "https://localhost:8080/"
        },
        "id": "ansU5UTvKOMp",
        "outputId": "531c34f8-6af2-4ead-f3a7-cc54c8034d2b"
      },
      "execution_count": 22,
      "outputs": [
        {
          "output_type": "stream",
          "name": "stdout",
          "text": [
            "{'t-shirt': 9, 'mug': 11, 'hat': 29, 'book': 39, 'keychain': 49}\n"
          ]
        }
      ]
    }
  ]
}